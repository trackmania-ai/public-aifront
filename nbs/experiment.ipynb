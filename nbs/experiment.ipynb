{
 "cells": [
  {
   "cell_type": "raw",
   "id": "f818ec3b-194b-4a20-a2e3-5dc036b8dc85",
   "metadata": {},
   "source": [
    "from twitchAPI.twitch import Twitch\n",
    "from twitchAPI.oauth import UserAuthenticator\n",
    "from twitchAPI.types import AuthScope\n",
    "\n",
    "twitch = Twitch('u3nsl96apdjaatha26m9b51sbjwqg2', '2vzrfwohbg6p6b3ee4894988k8pn59')\n",
    "\n",
    "target_scope = [AuthScope.BITS_READ, AuthScope.CHANNEL_READ_SUBSCRIPTIONS]\n",
    "auth = UserAuthenticator(twitch, target_scope, force_verify=False)\n",
    "# this will open your default browser and prompt you with the twitch verification website\n",
    "token, refresh_token = auth.authenticate()\n",
    "# add User authentication\n",
    "twitch.set_user_authentication(token, target_scope, refresh_token)\n",
    "\n",
    "# get ID of user\n",
    "user_info = twitch.get_users(logins=['pedroaitm'])\n",
    "user_id = user_info['data'][0]['id']"
   ]
  },
  {
   "cell_type": "raw",
   "id": "53816786-a748-47d7-aa7c-b2008f954650",
   "metadata": {},
   "source": [
    "twitch.get_users_follows(to_id=user_id, first=1)"
   ]
  },
  {
   "cell_type": "raw",
   "id": "25f4f10b-2030-4749-873f-ea8727fa565d",
   "metadata": {},
   "source": [
    "twitch.get_broadcaster_subscriptions(user_id, first=1)"
   ]
  },
  {
   "cell_type": "raw",
   "id": "d9178ce8-d5c8-49ad-808a-4ec6f1479c04",
   "metadata": {},
   "source": [
    "twitch.get_eventsub_subscriptions()"
   ]
  },
  {
   "cell_type": "code",
   "execution_count": null,
   "id": "d54586bc-ff69-4056-9058-2580fe4a03b1",
   "metadata": {},
   "outputs": [],
   "source": []
  }
 ],
 "metadata": {
  "kernelspec": {
   "display_name": "python3",
   "language": "python",
   "name": "python3"
  }
 },
 "nbformat": 4,
 "nbformat_minor": 5
}
