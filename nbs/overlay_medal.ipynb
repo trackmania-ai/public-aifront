{
 "cells": [
  {
   "cell_type": "code",
   "execution_count": null,
   "id": "771405fa-d8e7-49a4-91d8-ce9d29a004dc",
   "metadata": {},
   "outputs": [],
   "source": [
    "#| default_exp overlay.medal"
   ]
  },
  {
   "cell_type": "code",
   "execution_count": null,
   "id": "b6aa1893-e3d9-4362-8adf-0aca66dde129",
   "metadata": {},
   "outputs": [],
   "source": [
    "#| export\n",
    "import dash_bootstrap_components as dbc\n",
    "from aifront.overlay.default import background_color\n",
    "from dash import html"
   ]
  },
  {
   "cell_type": "code",
   "execution_count": null,
   "id": "e79b0788-3b97-4e6e-be8b-a6261a409afb",
   "metadata": {},
   "outputs": [],
   "source": [
    "#| exporti\n",
    "medal_config = dict(\n",
    "    unfinished=dict(color=\"rgb(242, 71, 64)\", icon=\"fa-ban\"),\n",
    "    no_medal=dict(color=\"white\", icon=\"fa-flag\"),\n",
    "    bronze=dict(color=\"rgb(153, 102, 68)\", icon=\"fa-circle\"),\n",
    "    silver=dict(color=\"rgb(136, 153, 153)\", icon=\"fa-circle\"),\n",
    "    gold=dict(color=\"rgb(221, 187, 68)\", icon=\"fa-circle\"),\n",
    "    author=dict(color=\"rgb(0, 119, 17)\", icon=\"fa-circle\"),\n",
    ")"
   ]
  },
  {
   "cell_type": "code",
   "execution_count": null,
   "id": "95d799b6-e4f1-4098-bd47-ef485566f7a9",
   "metadata": {},
   "outputs": [],
   "source": [
    "#| export\n",
    "medal_index = [\"unfinished\", \"no_medal\", \"bronze\", \"silver\", \"gold\", \"author\"]\n",
    "\n",
    "\n",
    "def medal_icon(medal):\n",
    "    return html.I(\n",
    "        className=f\"fa-solid {medal_config[medal]['icon']} me-2\",\n",
    "        style=dict(color=medal_config[medal][\"color\"]),\n",
    "    )\n",
    "\n",
    "\n",
    "def pb_with_icon(medals, best, no_respawn=False):\n",
    "    key = \"no_respawn_finish_racetime\" if no_respawn else \"finish_racetime\"\n",
    "    if best.get(key, None) is not None:\n",
    "        pb = racetime2str(best[key])\n",
    "        if best[key] <= medals[\"author\"]:\n",
    "            pb_icon = medal_icon(\"author\")\n",
    "        elif best[key] <= medals[\"gold\"]:\n",
    "            pb_icon = medal_icon(\"gold\")\n",
    "        elif best[key] <= medals[\"silver\"]:\n",
    "            pb_icon = medal_icon(\"silver\")\n",
    "        elif best[key] <= medals[\"bronze\"]:\n",
    "            pb_icon = medal_icon(\"bronze\")\n",
    "        else:\n",
    "            pb_icon = medal_icon(\"no_medal\")\n",
    "    else:\n",
    "        pb = f\"{best['progress']*100:.1f} %\"\n",
    "        pb_icon = medal_icon(\"unfinished\")\n",
    "    return html.Span([pb_icon, pb])\n",
    "\n",
    "\n",
    "def pb_badge(medals, best):\n",
    "    return dbc.Badge(\n",
    "        [html.Span(\"PB\", className=\"me-2\"), pb_with_icon(medals, best)],\n",
    "        pill=True,\n",
    "        color=background_color,\n",
    "    )\n",
    "\n",
    "\n",
    "def racetime2str(milliseconds):\n",
    "    seconds, milliseconds = divmod(milliseconds, 1000)\n",
    "    minutes, seconds = divmod(seconds, 60)\n",
    "    return f\"{minutes:02d}:{seconds:02d}.{milliseconds:03d}\"\n",
    "\n",
    "\n",
    "def medal_badges(medals):\n",
    "    return [\n",
    "        dbc.Badge(\n",
    "            [medal_icon(medal), racetime2str(medals[medal])],\n",
    "            pill=True,\n",
    "            color=background_color,\n",
    "        )\n",
    "        for medal in sorted(medals, key=medals.get, reverse=True)\n",
    "    ]"
   ]
  },
  {
   "cell_type": "code",
   "execution_count": null,
   "id": "2bd92863-03df-408d-9b2d-f57c83bbe2ad",
   "metadata": {},
   "outputs": [],
   "source": [
    "# |hide\n",
    "# |eval: false\n",
    "from nbdev.doclinks import nbdev_export\n",
    "\n",
    "nbdev_export()"
   ]
  },
  {
   "cell_type": "code",
   "execution_count": null,
   "id": "2eefec63-6193-411f-8447-5786951e9d47",
   "metadata": {},
   "outputs": [],
   "source": []
  }
 ],
 "metadata": {
  "kernelspec": {
   "display_name": "python3",
   "language": "python",
   "name": "python3"
  }
 },
 "nbformat": 4,
 "nbformat_minor": 5
}
