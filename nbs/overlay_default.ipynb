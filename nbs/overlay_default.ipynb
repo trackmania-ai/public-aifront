{
 "cells": [
  {
   "cell_type": "code",
   "execution_count": null,
   "id": "50612bab-2a24-4831-862e-aea2c4509bcf",
   "metadata": {},
   "outputs": [],
   "source": [
    "# |default_exp overlay.default"
   ]
  },
  {
   "cell_type": "code",
   "execution_count": null,
   "id": "a0015cf0-12ee-406d-a99f-68d6d628ccfd",
   "metadata": {},
   "outputs": [],
   "source": [
    "# |export\n",
    "import dash_bootstrap_components as dbc\n",
    "from dash import html"
   ]
  },
  {
   "cell_type": "code",
   "execution_count": null,
   "id": "dfa49a5f-aa6f-47b7-9f52-2594986fa05f",
   "metadata": {},
   "outputs": [],
   "source": [
    "# |export\n",
    "background_color = \"rgba(64,64,64,0.95)\"\n",
    "\n",
    "\n",
    "def table_row(*args):\n",
    "    cells = [\n",
    "        html.Td(arg, className=f\"align-text-top text-{'end' if i else 'start'} bg-transparent\")\n",
    "        for i, arg in enumerate(args)\n",
    "    ]\n",
    "    return html.Tr(cells)\n",
    "\n",
    "\n",
    "def table_headers(*args):\n",
    "    cells = [\n",
    "        html.Th(h, className=f\"text-{'end' if i else 'start'} bg-transparent\")\n",
    "        for i, h in enumerate(args)\n",
    "    ]\n",
    "    return html.Thead(html.Tr(cells))\n",
    "\n",
    "\n",
    "def table(headers, rows):\n",
    "    header = table_headers(*headers)\n",
    "    body = html.Tbody([table_row(*row) for row in rows])\n",
    "    return dbc.Table([header, body], class_name=\"p-1\")\n",
    "\n",
    "\n",
    "def timeout_wrapper(children, timeout, class_name=\"\"):\n",
    "    return dbc.Alert(\n",
    "        children=children,\n",
    "        class_name=f\"p-0 m-0 {class_name}\",\n",
    "        color=\"rgba(0,0,0,0)\",\n",
    "        is_open=True,\n",
    "        duration=timeout,\n",
    "    )"
   ]
  },
  {
   "cell_type": "code",
   "execution_count": null,
   "id": "f8876ef8-e85a-4725-85b9-923fe00f0334",
   "metadata": {},
   "outputs": [],
   "source": [
    "# |hide\n",
    "# |eval: false\n",
    "from nbdev.doclinks import nbdev_export\n",
    "\n",
    "nbdev_export()"
   ]
  },
  {
   "cell_type": "code",
   "execution_count": null,
   "id": "29b29a7b-c9a6-4d5f-8ec3-f6f1f159a12a",
   "metadata": {},
   "outputs": [],
   "source": []
  }
 ],
 "metadata": {
  "kernelspec": {
   "display_name": "python3",
   "language": "python",
   "name": "python3"
  }
 },
 "nbformat": 4,
 "nbformat_minor": 5
}
